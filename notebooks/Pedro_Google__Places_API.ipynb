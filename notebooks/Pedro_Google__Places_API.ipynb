{
 "cells": [
  {
   "cell_type": "markdown",
   "metadata": {},
   "source": [
    "# Google - Places API Data gathering and manipulation\n",
    "\n",
    "## Goal: Obtain usable data structure for modelling compilation\n",
    "\n",
    "The following steps are present in this jupyter notebook:\n",
    "- Step-up\n",
    "- Access Google Place API with key"
   ]
  },
  {
   "cell_type": "markdown",
   "metadata": {},
   "source": [
    "### Set-up"
   ]
  },
  {
   "cell_type": "code",
   "execution_count": null,
   "metadata": {},
   "outputs": [],
   "source": [
    "%load_ext lab_black"
   ]
  },
  {
   "cell_type": "code",
   "execution_count": 2,
   "metadata": {},
   "outputs": [],
   "source": [
    "import json\n",
    "import requests\n",
    "import yaml"
   ]
  },
  {
   "cell_type": "markdown",
   "metadata": {},
   "source": [
    "I created a dictionary with the key and printed it in a json file. This is done to ensure key safety."
   ]
  },
  {
   "cell_type": "code",
   "execution_count": 5,
   "metadata": {},
   "outputs": [],
   "source": [
    "key_json = json.load(open(\"credentials.json\"))\n",
    "#key_json[\"key\"]"
   ]
  },
  {
   "cell_type": "markdown",
   "metadata": {},
   "source": [
    "Based on Places API documentation available in (https://developers.google.com/maps/documentation/places/web-service/overview?hl=en_US). \n",
    "\n",
    "There are five main request types:\n",
    "- Place Search: Returns list of places based on user's location (There are 3 different search types)\n",
    "    - Find Place (specific place)\n",
    "    - Nearby Search (allow for the additional parameters to filter results, e.g. minprice, maxprice, opennow)\n",
    "    - Text Search (allow for the additional parameters to filter results, e.g. minprice, maxprice, opennow)\n",
    "- Place Details: Returs more detailed information about a specific place\n",
    "- Place Photos: Provides access to the millions of place-related photos (not useful)\n",
    "- Place Autocomplete: automatically fills in the name and /or adress of place as users type (not useful)\n",
    "- Query Autocomplete: provides a query prediction service for text-based geographic searches (probably not useful)"
   ]
  },
  {
   "cell_type": "code",
   "execution_count": null,
   "metadata": {},
   "outputs": [],
   "source": []
  }
 ],
 "metadata": {
  "kernelspec": {
   "display_name": "propulsion",
   "language": "python",
   "name": "propulsion"
  },
  "language_info": {
   "codemirror_mode": {
    "name": "ipython",
    "version": 3
   },
   "file_extension": ".py",
   "mimetype": "text/x-python",
   "name": "python",
   "nbconvert_exporter": "python",
   "pygments_lexer": "ipython3",
   "version": "3.9.6"
  }
 },
 "nbformat": 4,
 "nbformat_minor": 4
}
